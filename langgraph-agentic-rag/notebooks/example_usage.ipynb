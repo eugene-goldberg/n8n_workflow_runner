{
 "cells": [
  {
   "cell_type": "markdown",
   "metadata": {},
   "source": [
    "# LangGraph Agentic RAG - Example Usage\n",
    "\n",
    "This notebook demonstrates how to use the LangGraph Agentic RAG system."
   ]
  },
  {
   "cell_type": "code",
   "execution_count": null,
   "metadata": {},
   "outputs": [],
   "source": [
    "# Setup imports\n",
    "import sys\n",
    "sys.path.append('..')\n",
    "\n",
    "import asyncio\n",
    "from src.agents.main_agent import AgentRunner\n",
    "from src.ingestion.pipeline import IngestionPipeline"
   ]
  },
  {
   "cell_type": "markdown",
   "metadata": {},
   "source": [
    "## 1. Ingest Sample Documents\n",
    "\n",
    "First, let's ingest some documents to build our knowledge graph."
   ]
  },
  {
   "cell_type": "code",
   "execution_count": null,
   "metadata": {},
   "outputs": [],
   "source": [
    "# Create sample document\n",
    "sample_doc = \"\"\"\n",
    "SpyroSolutions is a leading technology company founded in 2015 by Jane Smith and John Doe.\n",
    "The company specializes in cloud computing solutions and has offices in San Francisco and New York.\n",
    "\n",
    "Their flagship product, SpyroCloud, is used by over 1000 enterprise customers including TechCorp\n",
    "and FinanceHub. SpyroCloud provides advanced data analytics and machine learning capabilities.\n",
    "\n",
    "In 2023, SpyroSolutions acquired DataStream Inc. for $50 million to enhance their real-time\n",
    "processing capabilities. The company reported $200 million in annual recurring revenue (ARR)\n",
    "with a 95% customer retention rate.\n",
    "\"\"\"\n",
    "\n",
    "# Save to file\n",
    "with open('../data/sample_company.txt', 'w') as f:\n",
    "    f.write(sample_doc)\n",
    "\n",
    "print(\"Sample document created\")"
   ]
  },
  {
   "cell_type": "code",
   "execution_count": null,
   "metadata": {},
   "outputs": [],
   "source": [
    "# Initialize ingestion pipeline\n",
    "pipeline = IngestionPipeline()\n",
    "\n",
    "# Ingest the document\n",
    "result = await pipeline.ingest_file('../data/sample_company.txt')\n",
    "print(f\"Ingestion result: {result}\")\n",
    "\n",
    "# Close pipeline\n",
    "pipeline.close()"
   ]
  },
  {
   "cell_type": "markdown",
   "metadata": {},
   "source": [
    "## 2. Query the System\n",
    "\n",
    "Now let's test different types of queries to see how the agent routes and responds."
   ]
  },
  {
   "cell_type": "code",
   "execution_count": null,
   "metadata": {},
   "outputs": [],
   "source": [
    "# Initialize the agent runner\n",
    "agent = AgentRunner()"
   ]
  },
  {
   "cell_type": "markdown",
   "metadata": {},
   "source": [
    "### Simple Greeting"
   ]
  },
  {
   "cell_type": "code",
   "execution_count": null,
   "metadata": {},
   "outputs": [],
   "source": [
    "# Test a simple greeting\n",
    "response = await agent.run(\"Hello! How are you?\")\n",
    "print(f\"Answer: {response['answer']}\")\n",
    "print(f\"Route: {response['metadata'].get('route')}\")"
   ]
  },
  {
   "cell_type": "markdown",
   "metadata": {},
   "source": [
    "### Fact Lookup Query"
   ]
  },
  {
   "cell_type": "code",
   "execution_count": null,
   "metadata": {},
   "outputs": [],
   "source": [
    "# Test a fact lookup query\n",
    "response = await agent.run(\"What is SpyroSolutions?\")\n",
    "print(f\"Answer: {response['answer']}\")\n",
    "print(f\"Route: {response['metadata'].get('route')}\")\n",
    "print(f\"Tools used: {response['metadata'].get('tools_used')}\")"
   ]
  },
  {
   "cell_type": "markdown",
   "metadata": {},
   "source": [
    "### Hybrid Search Query"
   ]
  },
  {
   "cell_type": "code",
   "execution_count": null,
   "metadata": {},
   "outputs": [],
   "source": [
    "# Test a hybrid search query with specific names\n",
    "response = await agent.run(\"Tell me about SpyroCloud and its customers like TechCorp\")\n",
    "print(f\"Answer: {response['answer']}\")\n",
    "print(f\"Route: {response['metadata'].get('route')}\")\n",
    "print(f\"Tools used: {response['metadata'].get('tools_used')}\")"
   ]
  },
  {
   "cell_type": "markdown",
   "metadata": {},
   "source": [
    "### Relational Query"
   ]
  },
  {
   "cell_type": "code",
   "execution_count": null,
   "metadata": {},
   "outputs": [],
   "source": [
    "# Test a relational query\n",
    "response = await agent.run(\"Who founded SpyroSolutions and what companies did they acquire?\")\n",
    "print(f\"Answer: {response['answer']}\")\n",
    "print(f\"Route: {response['metadata'].get('route')}\")\n",
    "print(f\"Tools used: {response['metadata'].get('tools_used')}\")"
   ]
  },
  {
   "cell_type": "markdown",
   "metadata": {},
   "source": [
    "## 3. Conversation Continuity\n",
    "\n",
    "Test the conversation persistence feature."
   ]
  },
  {
   "cell_type": "code",
   "execution_count": null,
   "metadata": {},
   "outputs": [],
   "source": [
    "# Start a conversation\n",
    "response1 = await agent.run(\"What is the ARR of SpyroSolutions?\")\n",
    "thread_id = response1['thread_id']\n",
    "print(f\"Answer 1: {response1['answer']}\")\n",
    "print(f\"Thread ID: {thread_id}\")"
   ]
  },
  {
   "cell_type": "code",
   "execution_count": null,
   "metadata": {},
   "outputs": [],
   "source": [
    "# Continue the conversation\n",
    "response2 = await agent.continue_conversation(\n",
    "    \"How does that compare to their acquisition cost?\",\n",
    "    thread_id=thread_id\n",
    ")\n",
    "print(f\"Answer 2: {response2['answer']}\")"
   ]
  },
  {
   "cell_type": "markdown",
   "metadata": {},
   "source": [
    "## 4. Error Handling\n",
    "\n",
    "Test how the system handles errors and ambiguous queries."
   ]
  },
  {
   "cell_type": "code",
   "execution_count": null,
   "metadata": {},
   "outputs": [],
   "source": [
    "# Test an ambiguous query\n",
    "response = await agent.run(\"Tell me about that thing\")\n",
    "print(f\"Answer: {response['answer']}\")\n",
    "print(f\"Route: {response['metadata'].get('route')}\")"
   ]
  },
  {
   "cell_type": "markdown",
   "metadata": {},
   "source": [
    "## 5. Direct Tool Testing\n",
    "\n",
    "You can also test the retrieval tools directly."
   ]
  },
  {
   "cell_type": "code",
   "execution_count": null,
   "metadata": {},
   "outputs": [],
   "source": [
    "from src.tools.search_tools import vector_search_tool, graph_query_tool\n",
    "\n",
    "# Test vector search\n",
    "vector_results = await vector_search_tool.ainvoke({\"query\": \"cloud computing solutions\", \"k\": 3})\n",
    "print(\"Vector Search Results:\")\n",
    "print(vector_results[:500] + \"...\" if len(vector_results) > 500 else vector_results)"
   ]
  },
  {
   "cell_type": "code",
   "execution_count": null,
   "metadata": {},
   "outputs": [],
   "source": [
    "# Test graph query\n",
    "graph_results = await graph_query_tool.ainvoke({\"query\": \"What companies are customers of SpyroSolutions?\"})\n",
    "print(\"Graph Query Results:\")\n",
    "print(graph_results[:500] + \"...\" if len(graph_results) > 500 else graph_results)"
   ]
  }
 ],
 "metadata": {
  "kernelspec": {
   "display_name": "Python 3",
   "language": "python",
   "name": "python3"
  },
  "language_info": {
   "codemirror_mode": {
    "name": "ipython",
    "version": 3
   },
   "file_extension": ".py",
   "mimetype": "text/x-python",
   "name": "python",
   "nbconvert_exporter": "python",
   "pygments_lexer": "ipython3",
   "version": "3.9.0"
  }
 },
 "nbformat": 4,
 "nbformat_minor": 4
}